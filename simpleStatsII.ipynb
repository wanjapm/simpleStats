{
 "cells": [
  {
   "cell_type": "code",
   "execution_count": 32,
   "metadata": {},
   "outputs": [],
   "source": [
    "path = \"/mnt/c/Users/user/Downloads/amazon_reviews_us_Gift_Card_v1_00.tsv.gz\""
   ]
  },
  {
   "cell_type": "code",
   "execution_count": 33,
   "metadata": {},
   "outputs": [],
   "source": [
    "import gzip\n",
    "import csv\n",
    "f = gzip.open(path,'rt', encoding='utf8')"
   ]
  },
  {
   "cell_type": "code",
   "execution_count": 34,
   "metadata": {},
   "outputs": [],
   "source": [
    "reader = csv.reader(f,delimiter='\\t')\n",
    "header = next(reader) # read the first line to get the column headers"
   ]
  },
  {
   "cell_type": "code",
   "execution_count": 35,
   "metadata": {},
   "outputs": [
    {
     "data": {
      "text/plain": [
       "{'marketplace': 'US',\n",
       " 'customer_id': '24371595',\n",
       " 'review_id': 'R27ZP1F1CD0C3Y',\n",
       " 'product_id': 'B004LLIL5A',\n",
       " 'product_parent': '346014806',\n",
       " 'product_title': 'Amazon eGift Card - Celebrate',\n",
       " 'product_category': 'Gift Card',\n",
       " 'star_rating': 5,\n",
       " 'helpful_votes': 0,\n",
       " 'total_votes': 0,\n",
       " 'vine': False,\n",
       " 'verified_purchase': True,\n",
       " 'review_headline': 'Five Stars',\n",
       " 'review_body': 'Great birthday gift for a young adult.',\n",
       " 'review_date': '2015-08-31'}"
      ]
     },
     "execution_count": 35,
     "metadata": {},
     "output_type": "execute_result"
    }
   ],
   "source": [
    "dataset = []\n",
    "for line in reader:\n",
    "    d = dict(zip(header,line))\n",
    "    # convert fields to numbers or boolean where possible\n",
    "    for field in ['star_rating', 'helpful_votes', 'total_votes']:\n",
    "        d[field] = int(d[field])\n",
    "    for field in ['vine', 'verified_purchase']:\n",
    "        if d[field] == 'Y':\n",
    "            d[field] =  True\n",
    "        else:\n",
    "            d[field] =  False\n",
    "    dataset.append(d)\n",
    "# dataset[0] test our dataset"
   ]
  },
  {
   "cell_type": "code",
   "execution_count": 36,
   "metadata": {},
   "outputs": [
    {
     "data": {
      "text/plain": [
       "148310"
      ]
     },
     "execution_count": 36,
     "metadata": {},
     "output_type": "execute_result"
    }
   ],
   "source": [
    "nRatings = len(dataset)\n",
    "nRatings"
   ]
  },
  {
   "cell_type": "code",
   "execution_count": 37,
   "metadata": {},
   "outputs": [
    {
     "name": "stdout",
     "output_type": "stream",
     "text": [
      "Average ratings: 4.731333\n"
     ]
    }
   ],
   "source": [
    "average = 0\n",
    "for d in dataset:\n",
    "    average += d['star_rating']\n",
    "average /= nRatings\n",
    "print(f\"Average ratings: {average:2f}\")"
   ]
  },
  {
   "cell_type": "code",
   "execution_count": 38,
   "metadata": {},
   "outputs": [
    {
     "name": "stdout",
     "output_type": "stream",
     "text": [
      "Average ratings: 4.731333\n"
     ]
    }
   ],
   "source": [
    "average = [d['star_rating'] for d in dataset]\n",
    "average = sum(average) / nRatings\n",
    "print(f\"Average ratings: {average:2f}\")"
   ]
  },
  {
   "cell_type": "code",
   "execution_count": 39,
   "metadata": {},
   "outputs": [
    {
     "name": "stdout",
     "output_type": "stream",
     "text": [
      "Unique users: 142467, Unique Products: 1776\n"
     ]
    }
   ],
   "source": [
    "# unique users and items in dataset using set()\n",
    "users = set()\n",
    "products = set()\n",
    "\n",
    "for d in dataset:\n",
    "    users.add(d['customer_id'])\n",
    "    products.add(d['product_id'])\n",
    "print(f\"Unique users: {len(users)}, Unique Products: {len(products)}\")"
   ]
  },
  {
   "cell_type": "code",
   "execution_count": 41,
   "metadata": {},
   "outputs": [],
   "source": [
    "# average verified purchases ratings\n",
    "# average of non-verified purchases ratings\n",
    "from collections import defaultdict\n",
    "purchases = defaultdict(list)"
   ]
  },
  {
   "cell_type": "code",
   "execution_count": 45,
   "metadata": {},
   "outputs": [
    {
     "name": "stdout",
     "output_type": "stream",
     "text": [
      "Average rating for Verified_Purchase: 4.746077\n",
      "Average rating for Non-Verified_Purchase: 4.578143\n"
     ]
    }
   ],
   "source": [
    "for d in dataset:\n",
    "    if d['verified_purchase']:\n",
    "        purchases['verified_purchase'].append(d['star_rating'])\n",
    "    else:\n",
    "        purchases['non-verified_purchase'].append(d['star_rating'])\n",
    "\n",
    "for r in purchases:\n",
    "    print(\"Average rating for {}: {:2f}\".format(r.title(), sum(purchases[r])/len(purchases[r])))"
   ]
  },
  {
   "cell_type": "code",
   "execution_count": null,
   "metadata": {},
   "outputs": [],
   "source": []
  }
 ],
 "metadata": {
  "kernelspec": {
   "display_name": "Python 3",
   "language": "python",
   "name": "python3"
  },
  "language_info": {
   "codemirror_mode": {
    "name": "ipython",
    "version": 3
   },
   "file_extension": ".py",
   "mimetype": "text/x-python",
   "name": "python",
   "nbconvert_exporter": "python",
   "pygments_lexer": "ipython3",
   "version": "3.7.6"
  }
 },
 "nbformat": 4,
 "nbformat_minor": 4
}
