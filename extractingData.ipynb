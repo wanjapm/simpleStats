{
 "cells": [
  {
   "cell_type": "code",
   "execution_count": 2,
   "metadata": {},
   "outputs": [],
   "source": [
    "import gzip\n",
    "path = \"/mnt/c/Users/user/Downloads/amazon_reviews_us_Gift_Card_v1_00.tsv.gz\"\n",
    "# calling this path from within linux and not windows\n",
    "f = gzip.open(path,'rt')"
   ]
  },
  {
   "cell_type": "code",
   "execution_count": 3,
   "metadata": {},
   "outputs": [],
   "source": [
    "import csv\n",
    "reader = csv.reader(f, delimiter='\\t')"
   ]
  },
  {
   "cell_type": "code",
   "execution_count": 4,
   "metadata": {},
   "outputs": [],
   "source": [
    "header = next(reader) # get the header(fields) of the tsv file as a list"
   ]
  },
  {
   "cell_type": "code",
   "execution_count": 5,
   "metadata": {},
   "outputs": [],
   "source": [
    "dataset = [] # we want to create a list of dictionaries\n",
    "for line in reader:\n",
    "    d = dict(zip(header,line))\n",
    "    for field in ['helpful_votes', 'star_rating', 'total_votes']:\n",
    "        d[field] = int(d[field]) # convert string to number for number fields\n",
    "    for field in ['verified_purchase', 'vine']:\n",
    "        if d[field] == 'Y':\n",
    "            d[field] = True # convert string to boolean for boolean fields\n",
    "        else:\n",
    "            d[field] = False\n",
    "    dataset.append(d) # dataset is a list of dictionaries"
   ]
  },
  {
   "cell_type": "code",
   "execution_count": 10,
   "metadata": {},
   "outputs": [
    {
     "name": "stdout",
     "output_type": "stream",
     "text": [
      "Average Gift Card Rating: 4.731333\n"
     ]
    }
   ],
   "source": [
    "# Average rating = get all ratings / number of ratings\n",
    "ratings = [d['star_rating'] for d in dataset]\n",
    "print(f\"Average Gift Card Rating: {sum(ratings) / len(ratings):2f}\")"
   ]
  },
  {
   "cell_type": "code",
   "execution_count": 12,
   "metadata": {},
   "outputs": [],
   "source": [
    "# Rating distribution e.g how many ratings for 1 are there, for 2, for 3 and so on.\n",
    "ratingsCount = {1:0, 2:0, 3:0 , 4:0 , 5:0}\n",
    "for d in dataset:\n",
    "    ratingsCount[d['star_rating']] +=1\n",
    "    "
   ]
  },
  {
   "cell_type": "code",
   "execution_count": 13,
   "metadata": {},
   "outputs": [
    {
     "data": {
      "text/plain": [
       "{1: 4766, 2: 1560, 3: 3147, 4: 9808, 5: 129029}"
      ]
     },
     "execution_count": 13,
     "metadata": {},
     "output_type": "execute_result"
    }
   ],
   "source": [
    "ratingsCount"
   ]
  },
  {
   "cell_type": "code",
   "execution_count": 14,
   "metadata": {},
   "outputs": [],
   "source": [
    "# The above solution works if there are few possibilities\n",
    "from collections import defaultdict\n",
    "ratingsCount = defaultdict(int)\n",
    "for d in dataset:\n",
    "    ratingsCount[d['star_rating']] +=1"
   ]
  },
  {
   "cell_type": "code",
   "execution_count": 21,
   "metadata": {},
   "outputs": [
    {
     "data": {
      "text/plain": [
       "defaultdict(int, {5: 129029, 1: 4766, 4: 9808, 2: 1560, 3: 3147})"
      ]
     },
     "execution_count": 21,
     "metadata": {},
     "output_type": "execute_result"
    }
   ],
   "source": [
    "ratingsCount"
   ]
  },
  {
   "cell_type": "code",
   "execution_count": 22,
   "metadata": {},
   "outputs": [],
   "source": [
    "verifiedCounts = defaultdict(int)\n",
    "for d in dataset:\n",
    "    verifiedCounts[d['verified_purchase']] +=1"
   ]
  },
  {
   "cell_type": "code",
   "execution_count": 23,
   "metadata": {},
   "outputs": [
    {
     "data": {
      "text/plain": [
       "defaultdict(int, {True: 135289, False: 13021})"
      ]
     },
     "execution_count": 23,
     "metadata": {},
     "output_type": "execute_result"
    }
   ],
   "source": [
    "verifiedCounts"
   ]
  },
  {
   "cell_type": "code",
   "execution_count": 25,
   "metadata": {},
   "outputs": [
    {
     "data": {
      "text/plain": [
       "[(2038, 'B004KNWWO0'),\n",
       " (2173, 'B0066AZGD4'),\n",
       " (2630, 'BT00DDC7CE'),\n",
       " (2643, 'B004LLIKY2'),\n",
       " (3407, 'BT00DDC7BK'),\n",
       " (3440, 'BT00CTOUNS'),\n",
       " (4283, 'B00IX1I3G6'),\n",
       " (5034, 'BT00DDVMVQ'),\n",
       " (6037, 'B00A48G0D4'),\n",
       " (28705, 'B004LLIKVU')]"
      ]
     },
     "execution_count": 25,
     "metadata": {},
     "output_type": "execute_result"
    }
   ],
   "source": [
    "productCounts = defaultdict(int)\n",
    "for d in dataset:\n",
    "    productCounts[d['product_id']] +=1\n",
    "\n",
    "counts = [(productCounts[p],p) for p in productCounts] \n",
    "# p=key i.e {product_id:count} counts= (count,product_id)\n",
    " # printing print(dict) will print the key\n",
    " # we are sorting by the first value in tuple - the counts that is why we made counts first value in list\n",
    " # the last 10 items in list - the 10 highest\n",
    "counts.sort()\n",
    "counts[-10:]"
   ]
  },
  {
   "cell_type": "code",
   "execution_count": 30,
   "metadata": {},
   "outputs": [],
   "source": [
    "# average rating for each product\n",
    "# get the ratings for each product\n",
    "# divide ratings by the number of ratings\n",
    "ratingsPerProduct = defaultdict(list)"
   ]
  },
  {
   "cell_type": "code",
   "execution_count": 34,
   "metadata": {},
   "outputs": [],
   "source": [
    "for d in dataset:\n",
    "    ratingsPerProduct[d['product_id']].append(d['star_rating'])"
   ]
  },
  {
   "cell_type": "code",
   "execution_count": 35,
   "metadata": {},
   "outputs": [],
   "source": [
    "averageRatingsPerProduct = {}\n",
    "for p in ratingsPerProduct:\n",
    "    averageRatingsPerProduct[p] = sum(ratingsPerProduct[p]) / len(ratingsPerProduct[p])"
   ]
  },
  {
   "cell_type": "code",
   "execution_count": 36,
   "metadata": {},
   "outputs": [],
   "source": [
    "topRated  = [(averageRatingsPerProduct[p],p) for p in averageRatingsPerProduct if len(ratingsPerProduct[p]) > 50 ]"
   ]
  },
  {
   "cell_type": "code",
   "execution_count": 37,
   "metadata": {},
   "outputs": [
    {
     "data": {
      "text/plain": [
       "[(4.9423076923076925, 'B00SNMPQYC'),\n",
       " (4.944444444444445, 'B007V6EWKK'),\n",
       " (4.947368421052632, 'B004LLIL5K'),\n",
       " (4.955882352941177, 'B00H5BNKYA'),\n",
       " (4.959183673469388, 'B00Q5BOQVC'),\n",
       " (4.961538461538462, 'B00AF0KAWI'),\n",
       " (4.962962962962963, 'B00CRQ4XA8'),\n",
       " (4.966101694915254, 'B00P8N49M4'),\n",
       " (4.967741935483871, 'B00I542D5I'),\n",
       " (4.975609756097561, 'B00CT78POK')]"
      ]
     },
     "execution_count": 37,
     "metadata": {},
     "output_type": "execute_result"
    }
   ],
   "source": [
    "topRated.sort()\n",
    "topRated[-10:]"
   ]
  },
  {
   "cell_type": "code",
   "execution_count": 58,
   "metadata": {},
   "outputs": [],
   "source": [
    "# Most active users\n",
    "activeUserCount = defaultdict(int)"
   ]
  },
  {
   "cell_type": "code",
   "execution_count": 59,
   "metadata": {},
   "outputs": [],
   "source": [
    "for d in dataset:\n",
    "    activeUserCount[int(d['customer_id'])] +=1"
   ]
  },
  {
   "cell_type": "code",
   "execution_count": 76,
   "metadata": {},
   "outputs": [
    {
     "data": {
      "text/plain": [
       "[(5, 41920477),\n",
       " (5, 42184434),\n",
       " (5, 45298444),\n",
       " (5, 45359231),\n",
       " (5, 50442527),\n",
       " (5, 50822336),\n",
       " (5, 51046621),\n",
       " (6, 30058414),\n",
       " (6, 52166758),\n",
       " (7, 9374792)]"
      ]
     },
     "execution_count": 76,
     "metadata": {},
     "output_type": "execute_result"
    }
   ],
   "source": [
    "counts = [(activeUserCount[u],u) for u in activeUserCount if activeUserCount[u] > 3]\n",
    "counts.sort()\n",
    "counts[-10:]\n",
    "#activeUserCount"
   ]
  },
  {
   "cell_type": "code",
   "execution_count": 84,
   "metadata": {},
   "outputs": [
    {
     "data": {
      "text/plain": [
       "[(16553, 'cards'),\n",
       " (18130, 'they'),\n",
       " (20647, 'have'),\n",
       " (21871, 'with'),\n",
       " (22705, 'easy'),\n",
       " (27034, 'this'),\n",
       " (27037, 'that'),\n",
       " (30710, 'Amazon'),\n",
       " (47077, 'card'),\n",
       " (91436, 'gift')]"
      ]
     },
     "execution_count": 84,
     "metadata": {},
     "output_type": "execute_result"
    }
   ],
   "source": [
    "# most commonly used words in the reviews\n",
    "# split the words and count the words\n",
    "reviewWords = defaultdict(int)\n",
    "for d in dataset:\n",
    "    for word in d['review_body'].split():\n",
    "        word.replace('!','').replace('.','').replace('!','').strip().replace(\"'\",\"\").replace(\"&\",\"\")\n",
    "        if len(word)>3: # can have a list of words to filter out here\n",
    "            reviewWords[word]+=1\n",
    "\n",
    "counts = [ (reviewWords[word], word) for word in reviewWords]\n",
    "counts.sort()\n",
    "counts[-10:]"
   ]
  },
  {
   "cell_type": "code",
   "execution_count": 88,
   "metadata": {},
   "outputs": [],
   "source": [
    "# difference in average rating between  verified and non-verified purchase\n",
    "# get average rating for verified  and non-verified purchases\n",
    "purchasesRatings = defaultdict(list)"
   ]
  },
  {
   "cell_type": "code",
   "execution_count": 90,
   "metadata": {},
   "outputs": [
    {
     "name": "stdout",
     "output_type": "stream",
     "text": [
      "Verified average ratings: 4.746077 \n",
      "Non-Verified average ratings: 4.578143 \n"
     ]
    }
   ],
   "source": [
    "for d in dataset:\n",
    "    if d['verified_purchase']:\n",
    "        purchasesRatings['verified'].append(d['star_rating'])\n",
    "    else:\n",
    "        purchasesRatings['non-verified'].append(d['star_rating'])\n",
    "\n",
    "for r in purchasesRatings:\n",
    "    print(\"{} average ratings: {:2f} \".format(r.title(),sum(purchasesRatings[r])/len(purchasesRatings[r]) ))"
   ]
  },
  {
   "cell_type": "code",
   "execution_count": null,
   "metadata": {},
   "outputs": [],
   "source": []
  }
 ],
 "metadata": {
  "kernelspec": {
   "display_name": "Python 3",
   "language": "python",
   "name": "python3"
  },
  "language_info": {
   "codemirror_mode": {
    "name": "ipython",
    "version": 3
   },
   "file_extension": ".py",
   "mimetype": "text/x-python",
   "name": "python",
   "nbconvert_exporter": "python",
   "pygments_lexer": "ipython3",
   "version": "3.7.6"
  }
 },
 "nbformat": 4,
 "nbformat_minor": 4
}
